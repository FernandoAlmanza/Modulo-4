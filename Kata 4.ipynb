{
 "cells": [
  {
   "cell_type": "markdown",
   "metadata": {},
   "source": [
    "# Kata 4\n",
    "\n",
    "## Ejercicio 1"
   ]
  },
  {
   "cell_type": "code",
   "execution_count": 1,
   "metadata": {},
   "outputs": [
    {
     "name": "stdout",
     "output_type": "stream",
     "text": [
      "\n",
      "On average, the Moon moves 4cm away from the Earth every year\n",
      "The highest daylight temperature of the Moon is 127 Celsius.\n"
     ]
    }
   ],
   "source": [
    "text = \"\"\"Interesting facts about the Moon. The Moon is Earth's only satellite. There are several interesting facts about the Moon and how it affects life here on Earth. \n",
    "On average, the Moon moves 4cm away from the Earth every year. This yearly drift is not significant enough to cause immediate effects on Earth. The highest daylight temperature of the Moon is 127 C.\"\"\"\n",
    "\n",
    "# Dividir el texto\n",
    "text_split = text.split(\". \")\n",
    "\n",
    "# Definición de pistas\n",
    "keywords = [\"average\", \"temperature\", \"distance\"]\n",
    "\n",
    "# Bucle con reemplazo de caracteres\n",
    "for i in text_split:\n",
    "    for j in keywords:\n",
    "        if j in i:\n",
    "            print(i.replace(\"C\", \"Celsius\"))\n",
    "            break\n"
   ]
  },
  {
   "cell_type": "markdown",
   "metadata": {},
   "source": [
    "## Ejercicio 2"
   ]
  },
  {
   "cell_type": "code",
   "execution_count": 2,
   "metadata": {},
   "outputs": [
    {
     "name": "stdout",
     "output_type": "stream",
     "text": [
      "Gravity Facts About Moon\n",
      "--------------------------------------------------------------------------------\n",
      "Planet name: Earth\n",
      "Gravity on Moon: 1.6199999999999999 m/s2\n",
      "Gravity Facts About Moon\n",
      "--------------------------------------------------------------------------------\n",
      "Planet name: Earth\n",
      "Gravity on Moon: 1.6199999999999999 m/s2\n",
      "Granymede\n",
      "--------------------------------------------------------------------------------\n",
      "Planet name: Mars\n",
      "Gravity on Granymede: 1.4300000000000002\n"
     ]
    }
   ],
   "source": [
    "name = \"Moon\"\n",
    "gravity = 0.00162 # in kms\n",
    "planet = \"Earth\"\n",
    "\n",
    "title = f\"Gravity facts about {name}\"\n",
    "facts = f\"\"\"{\"-\"*80}\n",
    "Planet name: {planet}\n",
    "Gravity on {name}: {gravity * 1000} m/s2\"\"\"\n",
    "template = f\"\"\"{title.title()}\n",
    "{facts}\"\"\"\n",
    "\n",
    "print(template)\n",
    "\n",
    "planet = \"Mars\"\n",
    "gravity = 0.00143\n",
    "name = \"Granymede\"\n",
    "\n",
    "print(template)\n",
    "\n",
    "converted_gravity = gravity * 1000\n",
    "\n",
    "template = \"\"\"{name}\n",
    "--------------------------------------------------------------------------------\n",
    "Planet name: {planet}\n",
    "Gravity on {name}: {gravity}\"\"\"\n",
    "\n",
    "print(template.format(name=name, planet=planet, gravity=gravity*1000))\n",
    "\n"
   ]
  }
 ],
 "metadata": {
  "interpreter": {
   "hash": "916dbcbb3f70747c44a77c7bcd40155683ae19c65e1c03b4aa3499c5328201f1"
  },
  "kernelspec": {
   "display_name": "Python 3.9.7 64-bit",
   "language": "python",
   "name": "python3"
  },
  "language_info": {
   "codemirror_mode": {
    "name": "ipython",
    "version": 3
   },
   "file_extension": ".py",
   "mimetype": "text/x-python",
   "name": "python",
   "nbconvert_exporter": "python",
   "pygments_lexer": "ipython3",
   "version": "3.9.7"
  },
  "orig_nbformat": 4
 },
 "nbformat": 4,
 "nbformat_minor": 2
}
